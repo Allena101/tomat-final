{
 "cells": [
  {
   "cell_type": "code",
   "execution_count": 21,
   "metadata": {},
   "outputs": [],
   "source": [
    "import tensorflow as tf\n",
    "from tensorflow.keras import models, layers\n",
    "import matplotlib.pyplot as plt\n",
    "from IPython.display import HTML\n",
    "import pandas as pd\n",
    "import numpy as np\n",
    "import os\n",
    "import matplotlib.pyplot as plt\n",
    "import pickle\n",
    "\n",
    "\n",
    "from tensorflow import keras\n",
    "from tensorflow.keras import models, layers\n",
    "from tensorflow.keras.optimizers import RMSprop\n",
    "from tensorflow.keras.callbacks import ModelCheckpoint\n",
    "from tensorflow.keras.layers import BatchNormalization, Dropout\n",
    "from tensorflow.keras.models import load_model"
   ]
  },
  {
   "cell_type": "markdown",
   "metadata": {},
   "source": [
    "In this part i try to find out if transfer learing will improve the results! I decided to work with VGG16 model.  "
   ]
  },
  {
   "cell_type": "code",
   "execution_count": 2,
   "metadata": {},
   "outputs": [
    {
     "name": "stdout",
     "output_type": "stream",
     "text": [
      "Found 4000 files belonging to 10 classes.\n"
     ]
    }
   ],
   "source": [
    "BATCH_SIZE = 32\n",
    "IMAGE_SIZE = 256\n",
    "CHANNELS=3\n",
    "\n",
    "dataset = tf.keras.preprocessing.image_dataset_from_directory(\n",
    "    'tomatoe_small',\n",
    "    seed=123,\n",
    "    shuffle=True,\n",
    "    image_size=(IMAGE_SIZE,IMAGE_SIZE),\n",
    "    batch_size=BATCH_SIZE\n",
    ")\n",
    "class_names = dataset.class_names\n",
    "n_classes = len(class_names)"
   ]
  },
  {
   "cell_type": "code",
   "execution_count": 22,
   "metadata": {},
   "outputs": [
    {
     "name": "stdout",
     "output_type": "stream",
     "text": [
      "Found 16011 files belonging to 10 classes.\n"
     ]
    }
   ],
   "source": [
    "BATCH_SIZE = 32\n",
    "IMAGE_SIZE = 256\n",
    "CHANNELS=3\n",
    "\n",
    "dataset = tf.keras.preprocessing.image_dataset_from_directory(\n",
    "    'TomatoeVillage',\n",
    "    seed=123,\n",
    "    shuffle=True,\n",
    "    image_size=(IMAGE_SIZE,IMAGE_SIZE),\n",
    "    batch_size=BATCH_SIZE\n",
    ")\n",
    "class_names = dataset.class_names\n",
    "n_classes = len(class_names)"
   ]
  },
  {
   "cell_type": "code",
   "execution_count": 24,
   "metadata": {},
   "outputs": [],
   "source": [
    "def get_dataset_partitions_tf(ds, train_split=0.8, val_split=0.1, test_split=0.1, shuffle=True, shuffle_size=10000):\n",
    "    assert (train_split + test_split + val_split) == 1\n",
    "    \n",
    "    ds_size = len(ds)\n",
    "    \n",
    "    if shuffle:\n",
    "        ds = ds.shuffle(shuffle_size, seed=12)\n",
    "    \n",
    "    train_size = int(train_split * ds_size)\n",
    "    val_size = int(val_split * ds_size)\n",
    "    \n",
    "    train_ds = ds.take(train_size)    \n",
    "    val_ds = ds.skip(train_size).take(val_size)\n",
    "    test_ds = ds.skip(train_size).skip(val_size)\n",
    "    \n",
    "    return train_ds, val_ds, test_ds\n",
    "\n",
    "train_ds, val_ds, test_ds = get_dataset_partitions_tf(dataset)\n",
    "\n",
    "resize_and_rescale = tf.keras.Sequential([\n",
    "  tf.keras.layers.Resizing(IMAGE_SIZE, IMAGE_SIZE),\n",
    "  tf.keras.layers.Rescaling(1./255),\n",
    "])\n",
    "\n",
    "rescale = tf.keras.Sequential([\n",
    "  tf.keras.layers.Rescaling(1./255),\n",
    "])\n",
    "\n",
    "data_augmentation = tf.keras.Sequential([\n",
    "  tf.keras.layers.RandomFlip(\"horizontal_and_vertical\"),\n",
    "  tf.keras.layers.RandomRotation(0.2),\n",
    "  tf.keras.layers.RandomZoom(-0.2),\n",
    "  tf.keras.layers.RandomContrast(0.2),\n",
    "  tf.keras.layers.RandomBrightness(0.2)\n",
    "])\n",
    "\n",
    "\n",
    "train_ds = train_ds.map(\n",
    "    lambda x, y: (rescale(x, training=True), y)\n",
    ")\n",
    "\n",
    "val_ds = val_ds.map(\n",
    "    lambda x, y: (rescale(x, training=True), y)\n",
    ")\n",
    "\n",
    "test_ds = test_ds.map(\n",
    "    lambda x, y: (rescale(x, training=True), y)\n",
    ")"
   ]
  },
  {
   "cell_type": "code",
   "execution_count": null,
   "metadata": {},
   "outputs": [],
   "source": [
    "data_augmentation = tf.keras.Sequential([\n",
    "  tf.keras.layers.RandomFlip(\"horizontal_and_vertical\"),\n",
    "  tf.keras.layers.RandomRotation(0.2),\n",
    "  tf.keras.layers.RandomZoom(-0.2),\n",
    "  tf.keras.layers.RandomContrast(0.2),\n",
    "  tf.keras.layers.RandomBrightness(0.2)\n",
    "])\n",
    "\n",
    "more_data = test_ds.map(\n",
    "    lambda x, y: (data_augmentation(x, training=True), y))"
   ]
  },
  {
   "cell_type": "markdown",
   "metadata": {},
   "source": [
    "We are trying the VGG16 model to see if those trained weights can help us with tomatoe leaf decease classification"
   ]
  },
  {
   "cell_type": "code",
   "execution_count": 5,
   "metadata": {},
   "outputs": [],
   "source": [
    "vgg16_base = keras.applications.vgg16.VGG16(\n",
    "    weights=\"imagenet\",\n",
    "    include_top=False,\n",
    "    input_shape=(256, 256, 3)) # resolution of our tomato images\n",
    "\n",
    "vgg16_base.summary()"
   ]
  },
  {
   "cell_type": "markdown",
   "metadata": {},
   "source": [
    "This part i a bit hard to understand, but we use the features that the huge VGG16 model has learned and somehow apply them to our training data"
   ]
  },
  {
   "cell_type": "code",
   "execution_count": null,
   "metadata": {},
   "outputs": [],
   "source": [
    "def get_features_and_labels(dataset):\n",
    "    all_features = []\n",
    "    all_labels = []\n",
    "    for images, labels in dataset:\n",
    "        preprocessed_images = keras.applications.vgg16.preprocess_input(images) # this scales pixel values to an appropriate range.\n",
    "        features = vgg16_base.predict(preprocessed_images)\n",
    "        all_features.append(features)\n",
    "        all_labels.append(labels)\n",
    "    return np.concatenate(all_features), np.concatenate(all_labels)\n",
    "\n",
    "train_features, train_labels =  get_features_and_labels(train_ds)\n",
    "val_features, val_labels =  get_features_and_labels(val_ds)\n",
    "test_features, test_labels =  get_features_and_labels(test_ds)\n",
    "\n",
    "#! The test_feature shape is very important! (1632, 8, 8, 512)\n",
    "test_features.shape\n",
    "# time = 50m"
   ]
  },
  {
   "cell_type": "code",
   "execution_count": 12,
   "metadata": {},
   "outputs": [
    {
     "name": "stdout",
     "output_type": "stream",
     "text": [
      "Model: \"model_1\"\n",
      "_________________________________________________________________\n",
      " Layer (type)                Output Shape              Param #   \n",
      "=================================================================\n",
      " input_4 (InputLayer)        [(None, 8, 8, 512)]       0         \n",
      "                                                                 \n",
      " flatten_1 (Flatten)         (None, 32768)             0         \n",
      "                                                                 \n",
      " dense_3 (Dense)             (None, 256)               8388864   \n",
      "                                                                 \n",
      " dropout_2 (Dropout)         (None, 256)               0         \n",
      "                                                                 \n",
      " dense_4 (Dense)             (None, 128)               32896     \n",
      "                                                                 \n",
      " dropout_3 (Dropout)         (None, 128)               0         \n",
      "                                                                 \n",
      " dense_5 (Dense)             (None, 10)                1290      \n",
      "                                                                 \n",
      "=================================================================\n",
      "Total params: 8423050 (32.13 MB)\n",
      "Trainable params: 8423050 (32.13 MB)\n",
      "Non-trainable params: 0 (0.00 Byte)\n",
      "_________________________________________________________________\n"
     ]
    }
   ],
   "source": [
    "# We att the feature shape as the input dimensions\n",
    "# We add a couple of dense layers train on the derived features \n",
    "inputs = keras.Input(shape=(8, 8, 512))\n",
    "x = layers.Flatten()(inputs)\n",
    "x = layers.Dense(256)(x)\n",
    "x = layers.Dropout(0.25)(x)\n",
    "x = layers.Dense(128)(x)\n",
    "x = layers.Dropout(0.25)(x)\n",
    "outputs = layers.Dense(10, activation=\"sigmoid\")(x)\n",
    "model = keras.Model(inputs, outputs)\n",
    "model.compile(loss=\"sparse_categorical_crossentropy\",\n",
    "              optimizer=\"rmsprop\",\n",
    "              metrics=[\"accuracy\"])\n",
    "\n",
    "model.summary()"
   ]
  },
  {
   "cell_type": "code",
   "execution_count": 13,
   "metadata": {},
   "outputs": [],
   "source": [
    "# this only saves the model weights for the epoch that got the highest val accuracy\n",
    "modelcheckpoint  = ModelCheckpoint(filepath=\"feature_extraction_vgg16.tf\",save_best_only=True, monitor=\"val_loss\")\n",
    "callback_list = [modelcheckpoint]"
   ]
  },
  {
   "cell_type": "code",
   "execution_count": 15,
   "metadata": {},
   "outputs": [
    {
     "name": "stdout",
     "output_type": "stream",
     "text": [
      "Epoch 1/30\n",
      "400/400 [==============================] - ETA: 0s - loss: 5.2528 - accuracy: 0.1309INFO:tensorflow:Assets written to: feature_extraction_vgg16.tf\\assets\n"
     ]
    },
    {
     "name": "stderr",
     "output_type": "stream",
     "text": [
      "INFO:tensorflow:Assets written to: feature_extraction_vgg16.tf\\assets\n"
     ]
    },
    {
     "name": "stdout",
     "output_type": "stream",
     "text": [
      "400/400 [==============================] - 30s 76ms/step - loss: 5.2528 - accuracy: 0.1309 - val_loss: 3.1313 - val_accuracy: 0.1994\n",
      "Epoch 2/30\n",
      "400/400 [==============================] - ETA: 0s - loss: 3.7987 - accuracy: 0.1384INFO:tensorflow:Assets written to: feature_extraction_vgg16.tf\\assets\n"
     ]
    },
    {
     "name": "stderr",
     "output_type": "stream",
     "text": [
      "INFO:tensorflow:Assets written to: feature_extraction_vgg16.tf\\assets\n"
     ]
    },
    {
     "name": "stdout",
     "output_type": "stream",
     "text": [
      "400/400 [==============================] - 30s 74ms/step - loss: 3.7987 - accuracy: 0.1384 - val_loss: 2.2283 - val_accuracy: 0.1919\n",
      "Epoch 3/30\n",
      "400/400 [==============================] - 28s 71ms/step - loss: 2.8565 - accuracy: 0.1482 - val_loss: 2.5955 - val_accuracy: 0.1544\n",
      "Epoch 4/30\n",
      "400/400 [==============================] - 28s 70ms/step - loss: 2.4133 - accuracy: 0.1668 - val_loss: 2.3183 - val_accuracy: 0.2000\n",
      "Epoch 5/30\n",
      "400/400 [==============================] - 28s 70ms/step - loss: 2.2640 - accuracy: 0.1784 - val_loss: 2.3178 - val_accuracy: 0.1250\n",
      "Epoch 6/30\n",
      "400/400 [==============================] - 28s 70ms/step - loss: 2.2125 - accuracy: 0.1859 - val_loss: 2.2419 - val_accuracy: 0.1581\n",
      "Epoch 7/30\n",
      "400/400 [==============================] - ETA: 0s - loss: 2.1804 - accuracy: 0.2009INFO:tensorflow:Assets written to: feature_extraction_vgg16.tf\\assets\n"
     ]
    },
    {
     "name": "stderr",
     "output_type": "stream",
     "text": [
      "INFO:tensorflow:Assets written to: feature_extraction_vgg16.tf\\assets\n"
     ]
    },
    {
     "name": "stdout",
     "output_type": "stream",
     "text": [
      "400/400 [==============================] - 28s 71ms/step - loss: 2.1804 - accuracy: 0.2009 - val_loss: 2.1413 - val_accuracy: 0.2313\n",
      "Epoch 8/30\n",
      "400/400 [==============================] - ETA: 0s - loss: 2.1625 - accuracy: 0.2114INFO:tensorflow:Assets written to: feature_extraction_vgg16.tf\\assets\n"
     ]
    },
    {
     "name": "stderr",
     "output_type": "stream",
     "text": [
      "INFO:tensorflow:Assets written to: feature_extraction_vgg16.tf\\assets\n"
     ]
    },
    {
     "name": "stdout",
     "output_type": "stream",
     "text": [
      "400/400 [==============================] - 30s 74ms/step - loss: 2.1625 - accuracy: 0.2114 - val_loss: 2.0339 - val_accuracy: 0.2706\n",
      "Epoch 9/30\n",
      "400/400 [==============================] - 29s 72ms/step - loss: 2.1386 - accuracy: 0.2116 - val_loss: 2.0596 - val_accuracy: 0.2669\n",
      "Epoch 10/30\n",
      "400/400 [==============================] - ETA: 0s - loss: 2.1208 - accuracy: 0.2141INFO:tensorflow:Assets written to: feature_extraction_vgg16.tf\\assets\n"
     ]
    },
    {
     "name": "stderr",
     "output_type": "stream",
     "text": [
      "INFO:tensorflow:Assets written to: feature_extraction_vgg16.tf\\assets\n"
     ]
    },
    {
     "name": "stdout",
     "output_type": "stream",
     "text": [
      "400/400 [==============================] - 30s 74ms/step - loss: 2.1208 - accuracy: 0.2141 - val_loss: 2.0268 - val_accuracy: 0.2512\n",
      "Epoch 11/30\n",
      "400/400 [==============================] - ETA: 0s - loss: 2.1132 - accuracy: 0.2227INFO:tensorflow:Assets written to: feature_extraction_vgg16.tf\\assets\n"
     ]
    },
    {
     "name": "stderr",
     "output_type": "stream",
     "text": [
      "INFO:tensorflow:Assets written to: feature_extraction_vgg16.tf\\assets\n"
     ]
    },
    {
     "name": "stdout",
     "output_type": "stream",
     "text": [
      "400/400 [==============================] - 29s 72ms/step - loss: 2.1132 - accuracy: 0.2227 - val_loss: 2.0148 - val_accuracy: 0.2675\n",
      "Epoch 12/30\n",
      "400/400 [==============================] - 29s 72ms/step - loss: 2.0995 - accuracy: 0.2250 - val_loss: 2.0219 - val_accuracy: 0.2425\n",
      "Epoch 13/30\n",
      "400/400 [==============================] - ETA: 0s - loss: 2.0933 - accuracy: 0.2290INFO:tensorflow:Assets written to: feature_extraction_vgg16.tf\\assets\n"
     ]
    },
    {
     "name": "stderr",
     "output_type": "stream",
     "text": [
      "INFO:tensorflow:Assets written to: feature_extraction_vgg16.tf\\assets\n"
     ]
    },
    {
     "name": "stdout",
     "output_type": "stream",
     "text": [
      "400/400 [==============================] - 29s 74ms/step - loss: 2.0933 - accuracy: 0.2290 - val_loss: 2.0100 - val_accuracy: 0.2394\n",
      "Epoch 14/30\n",
      "400/400 [==============================] - 30s 75ms/step - loss: 2.0813 - accuracy: 0.2323 - val_loss: 2.0445 - val_accuracy: 0.2837\n",
      "Epoch 15/30\n",
      "400/400 [==============================] - ETA: 0s - loss: 2.0821 - accuracy: 0.2338INFO:tensorflow:Assets written to: feature_extraction_vgg16.tf\\assets\n"
     ]
    },
    {
     "name": "stderr",
     "output_type": "stream",
     "text": [
      "INFO:tensorflow:Assets written to: feature_extraction_vgg16.tf\\assets\n"
     ]
    },
    {
     "name": "stdout",
     "output_type": "stream",
     "text": [
      "400/400 [==============================] - 30s 74ms/step - loss: 2.0821 - accuracy: 0.2338 - val_loss: 1.9771 - val_accuracy: 0.2387\n",
      "Epoch 16/30\n",
      "400/400 [==============================] - 29s 73ms/step - loss: 2.0711 - accuracy: 0.2396 - val_loss: 2.1882 - val_accuracy: 0.1275\n",
      "Epoch 17/30\n",
      "400/400 [==============================] - 28s 70ms/step - loss: 2.0649 - accuracy: 0.2474 - val_loss: 2.0252 - val_accuracy: 0.2756\n",
      "Epoch 18/30\n",
      "400/400 [==============================] - ETA: 0s - loss: 2.0517 - accuracy: 0.2499INFO:tensorflow:Assets written to: feature_extraction_vgg16.tf\\assets\n"
     ]
    },
    {
     "name": "stderr",
     "output_type": "stream",
     "text": [
      "INFO:tensorflow:Assets written to: feature_extraction_vgg16.tf\\assets\n"
     ]
    },
    {
     "name": "stdout",
     "output_type": "stream",
     "text": [
      "400/400 [==============================] - 30s 74ms/step - loss: 2.0517 - accuracy: 0.2499 - val_loss: 1.9718 - val_accuracy: 0.2844\n",
      "Epoch 19/30\n",
      "400/400 [==============================] - 29s 71ms/step - loss: 2.0493 - accuracy: 0.2465 - val_loss: 2.0431 - val_accuracy: 0.2862\n",
      "Epoch 20/30\n",
      "400/400 [==============================] - ETA: 0s - loss: 2.0340 - accuracy: 0.2574INFO:tensorflow:Assets written to: feature_extraction_vgg16.tf\\assets\n"
     ]
    },
    {
     "name": "stderr",
     "output_type": "stream",
     "text": [
      "INFO:tensorflow:Assets written to: feature_extraction_vgg16.tf\\assets\n"
     ]
    },
    {
     "name": "stdout",
     "output_type": "stream",
     "text": [
      "400/400 [==============================] - 31s 76ms/step - loss: 2.0340 - accuracy: 0.2574 - val_loss: 1.9451 - val_accuracy: 0.3462\n",
      "Epoch 21/30\n",
      "400/400 [==============================] - 29s 71ms/step - loss: 2.0279 - accuracy: 0.2649 - val_loss: 2.0234 - val_accuracy: 0.2669\n",
      "Epoch 22/30\n",
      "400/400 [==============================] - 27s 67ms/step - loss: 2.0263 - accuracy: 0.2592 - val_loss: 1.9457 - val_accuracy: 0.2850\n",
      "Epoch 23/30\n",
      "400/400 [==============================] - ETA: 0s - loss: 2.0183 - accuracy: 0.2666INFO:tensorflow:Assets written to: feature_extraction_vgg16.tf\\assets\n"
     ]
    },
    {
     "name": "stderr",
     "output_type": "stream",
     "text": [
      "INFO:tensorflow:Assets written to: feature_extraction_vgg16.tf\\assets\n"
     ]
    },
    {
     "name": "stdout",
     "output_type": "stream",
     "text": [
      "400/400 [==============================] - 29s 72ms/step - loss: 2.0183 - accuracy: 0.2666 - val_loss: 1.9357 - val_accuracy: 0.2912\n",
      "Epoch 24/30\n",
      "400/400 [==============================] - 30s 74ms/step - loss: 2.0061 - accuracy: 0.2718 - val_loss: 2.1831 - val_accuracy: 0.2537\n",
      "Epoch 25/30\n",
      "400/400 [==============================] - ETA: 0s - loss: 2.0056 - accuracy: 0.2759INFO:tensorflow:Assets written to: feature_extraction_vgg16.tf\\assets\n"
     ]
    },
    {
     "name": "stderr",
     "output_type": "stream",
     "text": [
      "INFO:tensorflow:Assets written to: feature_extraction_vgg16.tf\\assets\n"
     ]
    },
    {
     "name": "stdout",
     "output_type": "stream",
     "text": [
      "400/400 [==============================] - 30s 74ms/step - loss: 2.0056 - accuracy: 0.2759 - val_loss: 1.9076 - val_accuracy: 0.3044\n",
      "Epoch 26/30\n",
      "400/400 [==============================] - 28s 70ms/step - loss: 1.9985 - accuracy: 0.2734 - val_loss: 2.0427 - val_accuracy: 0.1806\n",
      "Epoch 27/30\n",
      "400/400 [==============================] - ETA: 0s - loss: 1.9982 - accuracy: 0.2803INFO:tensorflow:Assets written to: feature_extraction_vgg16.tf\\assets\n"
     ]
    },
    {
     "name": "stderr",
     "output_type": "stream",
     "text": [
      "INFO:tensorflow:Assets written to: feature_extraction_vgg16.tf\\assets\n"
     ]
    },
    {
     "name": "stdout",
     "output_type": "stream",
     "text": [
      "400/400 [==============================] - 30s 74ms/step - loss: 1.9982 - accuracy: 0.2803 - val_loss: 1.8885 - val_accuracy: 0.3225\n",
      "Epoch 28/30\n",
      "400/400 [==============================] - ETA: 0s - loss: 1.9911 - accuracy: 0.2823INFO:tensorflow:Assets written to: feature_extraction_vgg16.tf\\assets\n"
     ]
    },
    {
     "name": "stderr",
     "output_type": "stream",
     "text": [
      "INFO:tensorflow:Assets written to: feature_extraction_vgg16.tf\\assets\n"
     ]
    },
    {
     "name": "stdout",
     "output_type": "stream",
     "text": [
      "400/400 [==============================] - 31s 78ms/step - loss: 1.9911 - accuracy: 0.2823 - val_loss: 1.8827 - val_accuracy: 0.3562\n",
      "Epoch 29/30\n",
      "400/400 [==============================] - 29s 73ms/step - loss: 1.9795 - accuracy: 0.2862 - val_loss: 1.9113 - val_accuracy: 0.3150\n",
      "Epoch 30/30\n",
      "400/400 [==============================] - ETA: 0s - loss: 1.9797 - accuracy: 0.2853INFO:tensorflow:Assets written to: feature_extraction_vgg16.tf\\assets\n"
     ]
    },
    {
     "name": "stderr",
     "output_type": "stream",
     "text": [
      "INFO:tensorflow:Assets written to: feature_extraction_vgg16.tf\\assets\n"
     ]
    },
    {
     "name": "stdout",
     "output_type": "stream",
     "text": [
      "400/400 [==============================] - 30s 75ms/step - loss: 1.9797 - accuracy: 0.2853 - val_loss: 1.8794 - val_accuracy: 0.2781\n"
     ]
    }
   ],
   "source": [
    "history = model.fit(train_features,train_labels, \n",
    "                              epochs=30, validation_data=(val_features, val_labels),\n",
    "                              callbacks=callback_list)\n",
    "\n",
    "# val acc 27%"
   ]
  },
  {
   "cell_type": "code",
   "execution_count": 17,
   "metadata": {},
   "outputs": [
    {
     "data": {
      "text/html": [
       "<div>\n",
       "<style scoped>\n",
       "    .dataframe tbody tr th:only-of-type {\n",
       "        vertical-align: middle;\n",
       "    }\n",
       "\n",
       "    .dataframe tbody tr th {\n",
       "        vertical-align: top;\n",
       "    }\n",
       "\n",
       "    .dataframe thead th {\n",
       "        text-align: right;\n",
       "    }\n",
       "</style>\n",
       "<table border=\"1\" class=\"dataframe\">\n",
       "  <thead>\n",
       "    <tr style=\"text-align: right;\">\n",
       "      <th></th>\n",
       "      <th>loss</th>\n",
       "      <th>accuracy</th>\n",
       "      <th>val_loss</th>\n",
       "      <th>val_accuracy</th>\n",
       "    </tr>\n",
       "  </thead>\n",
       "  <tbody>\n",
       "    <tr>\n",
       "      <th>20</th>\n",
       "      <td>2.027948</td>\n",
       "      <td>0.264922</td>\n",
       "      <td>2.023430</td>\n",
       "      <td>0.266875</td>\n",
       "    </tr>\n",
       "    <tr>\n",
       "      <th>21</th>\n",
       "      <td>2.026286</td>\n",
       "      <td>0.259219</td>\n",
       "      <td>1.945747</td>\n",
       "      <td>0.285000</td>\n",
       "    </tr>\n",
       "    <tr>\n",
       "      <th>22</th>\n",
       "      <td>2.018302</td>\n",
       "      <td>0.266641</td>\n",
       "      <td>1.935746</td>\n",
       "      <td>0.291250</td>\n",
       "    </tr>\n",
       "    <tr>\n",
       "      <th>23</th>\n",
       "      <td>2.006104</td>\n",
       "      <td>0.271797</td>\n",
       "      <td>2.183107</td>\n",
       "      <td>0.253750</td>\n",
       "    </tr>\n",
       "    <tr>\n",
       "      <th>24</th>\n",
       "      <td>2.005594</td>\n",
       "      <td>0.275937</td>\n",
       "      <td>1.907577</td>\n",
       "      <td>0.304375</td>\n",
       "    </tr>\n",
       "    <tr>\n",
       "      <th>25</th>\n",
       "      <td>1.998509</td>\n",
       "      <td>0.273359</td>\n",
       "      <td>2.042731</td>\n",
       "      <td>0.180625</td>\n",
       "    </tr>\n",
       "    <tr>\n",
       "      <th>26</th>\n",
       "      <td>1.998239</td>\n",
       "      <td>0.280313</td>\n",
       "      <td>1.888527</td>\n",
       "      <td>0.322500</td>\n",
       "    </tr>\n",
       "    <tr>\n",
       "      <th>27</th>\n",
       "      <td>1.991105</td>\n",
       "      <td>0.282266</td>\n",
       "      <td>1.882654</td>\n",
       "      <td>0.356250</td>\n",
       "    </tr>\n",
       "    <tr>\n",
       "      <th>28</th>\n",
       "      <td>1.979508</td>\n",
       "      <td>0.286172</td>\n",
       "      <td>1.911254</td>\n",
       "      <td>0.315000</td>\n",
       "    </tr>\n",
       "    <tr>\n",
       "      <th>29</th>\n",
       "      <td>1.979709</td>\n",
       "      <td>0.285313</td>\n",
       "      <td>1.879412</td>\n",
       "      <td>0.278125</td>\n",
       "    </tr>\n",
       "  </tbody>\n",
       "</table>\n",
       "</div>"
      ],
      "text/plain": [
       "        loss  accuracy  val_loss  val_accuracy\n",
       "20  2.027948  0.264922  2.023430      0.266875\n",
       "21  2.026286  0.259219  1.945747      0.285000\n",
       "22  2.018302  0.266641  1.935746      0.291250\n",
       "23  2.006104  0.271797  2.183107      0.253750\n",
       "24  2.005594  0.275937  1.907577      0.304375\n",
       "25  1.998509  0.273359  2.042731      0.180625\n",
       "26  1.998239  0.280313  1.888527      0.322500\n",
       "27  1.991105  0.282266  1.882654      0.356250\n",
       "28  1.979508  0.286172  1.911254      0.315000\n",
       "29  1.979709  0.285313  1.879412      0.278125"
      ]
     },
     "execution_count": 17,
     "metadata": {},
     "output_type": "execute_result"
    }
   ],
   "source": [
    "\n",
    "metrics = pd.DataFrame(history.history)\n",
    "metrics.tail(10)"
   ]
  },
  {
   "cell_type": "code",
   "execution_count": 18,
   "metadata": {},
   "outputs": [
    {
     "data": {
      "image/png": "[encoded data removed]",
      "text/plain": [
       "<Figure size 640x480 with 1 Axes>"
      ]
     },
     "metadata": {},
     "output_type": "display_data"
    }
   ],
   "source": [
    "metrics[['accuracy','val_accuracy']].plot()\n",
    "plt.show()\n",
    "#* Looks like more epochs could improve the result a bit"
   ]
  },
  {
   "cell_type": "code",
   "execution_count": 19,
   "metadata": {},
   "outputs": [
    {
     "data": {
      "image/png": "[encoded data removed]",
      "text/plain": [
       "<Figure size 640x480 with 1 Axes>"
      ]
     },
     "metadata": {},
     "output_type": "display_data"
    }
   ],
   "source": [
    "metrics[['loss','val_loss']].plot()\n",
    "plt.show()"
   ]
  },
  {
   "cell_type": "code",
   "execution_count": 23,
   "metadata": {},
   "outputs": [
    {
     "name": "stdout",
     "output_type": "stream",
     "text": [
      "51/51 [==============================] - 0s 9ms/step - loss: 1.8892 - accuracy: 0.2855\n",
      "Loss = 1.8892364501953125\n",
      "Accuracy = 0.2855392098426819\n",
      "Accuracy = 28.6%\n",
      "        loss  accuracy  val_loss  val_accuracy\n",
      "25  1.998509  0.273359  2.042731      0.180625\n",
      "26  1.998239  0.280313  1.888527      0.322500\n",
      "27  1.991105  0.282266  1.882654      0.356250\n",
      "28  1.979508  0.286172  1.911254      0.315000\n",
      "29  1.979709  0.285313  1.879412      0.278125\n"
     ]
    },
    {
     "data": {
      "text/plain": [
       "<Figure size 640x480 with 0 Axes>"
      ]
     },
     "metadata": {},
     "output_type": "display_data"
    },
    {
     "data": {
      "image/png": "[encoded data removed]",
      "text/plain": [
       "<Figure size 640x480 with 1 Axes>"
      ]
     },
     "metadata": {},
     "output_type": "display_data"
    }
   ],
   "source": [
    "model_scores = model.evaluate(test_features, test_labels)\n",
    "print(f\"Loss = {model_scores[0]}\")\n",
    "print(f\"Accuracy = {model_scores[1]}\")\n",
    "acc = model_scores[1]\n",
    "formatted_acc = \"{:.1%}\".format(acc)\n",
    "print(f\"Accuracy = {formatted_acc}\")\n",
    "\n",
    "model_metrics = pd.DataFrame(history.history)\n",
    "print(model_metrics.tail())\n",
    "\n",
    "\n",
    "\n",
    "plt.clf()\n",
    "model_metrics[['accuracy','val_accuracy']].plot()\n",
    "\n",
    "plt.text(0.5, 0.5, f'{formatted_acc} Accuracy on test_ds', horizontalalignment='center', verticalalignment='center', transform=plt.gca().transAxes, bbox=dict(facecolor='red', alpha=0.2))\n",
    "plt.savefig('C:\\\\Users\\\\Magnus\\\\Desktop\\\\code\\\\timeSeries\\\\model_plots\\\\VGG16_untrained.png')\n",
    "\n",
    "plt.show()"
   ]
  },
  {
   "cell_type": "code",
   "execution_count": 21,
   "metadata": {},
   "outputs": [
    {
     "name": "stdout",
     "output_type": "stream",
     "text": [
      "13/13 [==============================] - 0s 2ms/step - loss: 2.1873 - accuracy: 0.1611\n"
     ]
    },
    {
     "data": {
      "text/plain": [
       "[2.187328577041626, 0.16105769574642181]"
      ]
     },
     "execution_count": 21,
     "metadata": {},
     "output_type": "execute_result"
    }
   ],
   "source": [
    "#\n",
    "#! you need to save the model and load it. (you did not save it)\n",
    "#\n",
    "\n",
    "test_model = keras.models.load_model(\"CNN_feature_extraction_vgg16.tf\")\n",
    "test_model.evaluate(test_features, test_labels)\n",
    "# 16% ACC"
   ]
  },
  {
   "cell_type": "markdown",
   "metadata": {},
   "source": [
    "Its rather understandable that the model is not doing that well since the tomatoe decease classes are much more narrow than what the model were trained on. Lets see if fine tuning another block of the vgg16 model will improve the results!"
   ]
  },
  {
   "cell_type": "code",
   "execution_count": 6,
   "metadata": {},
   "outputs": [],
   "source": [
    "# Unfreezeing the last 4 layers\n",
    "vgg16_base.trainable = True\n",
    "for layer in vgg16_base.layers[:-4]:\n",
    "    layer.trainable = False "
   ]
  },
  {
   "cell_type": "code",
   "execution_count": 7,
   "metadata": {},
   "outputs": [
    {
     "name": "stdout",
     "output_type": "stream",
     "text": [
      "Model: \"model\"\n",
      "_________________________________________________________________\n",
      " Layer (type)                Output Shape              Param #   \n",
      "=================================================================\n",
      " input_2 (InputLayer)        [(None, 256, 256, 3)]     0         \n",
      "                                                                 \n",
      " tf.__operators__.getitem (  (None, 256, 256, 3)       0         \n",
      " SlicingOpLambda)                                                \n",
      "                                                                 \n",
      " tf.nn.bias_add (TFOpLambda  (None, 256, 256, 3)       0         \n",
      " )                                                               \n",
      "                                                                 \n",
      " vgg16 (Functional)          (None, 8, 8, 512)         14714688  \n",
      "                                                                 \n",
      " flatten (Flatten)           (None, 32768)             0         \n",
      "                                                                 \n",
      " dense (Dense)               (None, 256)               8388864   \n",
      "                                                                 \n",
      " dropout (Dropout)           (None, 256)               0         \n",
      "                                                                 \n",
      " dense_1 (Dense)             (None, 128)               32896     \n",
      "                                                                 \n",
      " dropout_1 (Dropout)         (None, 128)               0         \n",
      "                                                                 \n",
      " dense_2 (Dense)             (None, 10)                1290      \n",
      "                                                                 \n",
      "=================================================================\n",
      "Total params: 23137738 (88.26 MB)\n",
      "Trainable params: 15502474 (59.14 MB)\n",
      "Non-trainable params: 7635264 (29.13 MB)\n",
      "_________________________________________________________________\n"
     ]
    }
   ],
   "source": [
    "# I only add Dense and dropout layers, and of course the preprocess_input()\n",
    "inputs = keras.Input(shape=(256, 256, 3))\n",
    "x = keras.applications.vgg16.preprocess_input(inputs)\n",
    "x = vgg16_base(x)\n",
    "x = layers.Flatten()(x)\n",
    "x = layers.Dense(256)(x)\n",
    "x = layers.Dropout(0.25)(x)\n",
    "x = layers.Dense(128)(x)\n",
    "x = layers.Dropout(0.25)(x)\n",
    "outputs = layers.Dense(10, activation=\"sigmoid\")(x)\n",
    "model = keras.Model(inputs, outputs)\n",
    "model.compile(loss=\"sparse_categorical_crossentropy\",\n",
    "              optimizer=keras.optimizers.RMSprop(learning_rate=1e-5), # small learning rate is recommended for transfer learning fine tuning     \n",
    "              metrics=[\"accuracy\"])\n",
    "model.summary()"
   ]
  },
  {
   "cell_type": "code",
   "execution_count": 8,
   "metadata": {},
   "outputs": [],
   "source": [
    "# sometimes i use the checkpoint and sometime not. Have not really figured out how to use them in my workflow. I think they are more useful when you can train for lots of more epochs\n",
    "modelcheckpoint  = ModelCheckpoint(filepath=\"C:\\\\Users\\\\Magnus\\\\Desktop\\\\code\\\\timeSeries\\\\my_model\\\\vgg16_unfreeze_one_block.tf\",save_best_only=True, monitor=\"val_loss\")\n",
    "callback_list    = [modelcheckpoint]"
   ]
  },
  {
   "cell_type": "code",
   "execution_count": 9,
   "metadata": {},
   "outputs": [
    {
     "name": "stdout",
     "output_type": "stream",
     "text": [
      "Epoch 1/5\n"
     ]
    },
    {
     "name": "stdout",
     "output_type": "stream",
     "text": [
      "100/100 [==============================] - 760s 8s/step - loss: 3.0762 - accuracy: 0.0991 - val_loss: 2.3325 - val_accuracy: 0.1146\n",
      "Epoch 2/5\n",
      "100/100 [==============================] - 799s 8s/step - loss: 2.3948 - accuracy: 0.1128 - val_loss: 2.2939 - val_accuracy: 0.1094\n",
      "Epoch 3/5\n",
      "100/100 [==============================] - 796s 8s/step - loss: 2.3073 - accuracy: 0.1312 - val_loss: 2.2680 - val_accuracy: 0.1406\n",
      "Epoch 4/5\n",
      "100/100 [==============================] - 797s 8s/step - loss: 2.2656 - accuracy: 0.1469 - val_loss: 2.2362 - val_accuracy: 0.2005\n",
      "Epoch 5/5\n",
      "100/100 [==============================] - 777s 8s/step - loss: 2.2175 - accuracy: 0.1719 - val_loss: 2.1667 - val_accuracy: 0.1667\n"
     ]
    }
   ],
   "source": [
    "history = model.fit(train_ds, epochs=5, validation_data=val_ds)\n",
    "# For the big tomato dataset\n",
    "# time = 280m\n",
    "# val acc = 43%"
   ]
  },
  {
   "cell_type": "code",
   "execution_count": 16,
   "metadata": {},
   "outputs": [
    {
     "data": {
      "image/png": "[encoded data removed]",
      "text/plain": [
       "<Figure size 640x480 with 1 Axes>"
      ]
     },
     "metadata": {},
     "output_type": "display_data"
    }
   ],
   "source": [
    "metrics[['accuracy','val_accuracy']].plot()\n",
    "plt.show()"
   ]
  },
  {
   "cell_type": "code",
   "execution_count": 42,
   "metadata": {},
   "outputs": [
    {
     "name": "stdout",
     "output_type": "stream",
     "text": [
      "INFO:tensorflow:Assets written to: vgg16_unfreeze\\assets\n"
     ]
    },
    {
     "name": "stderr",
     "output_type": "stream",
     "text": [
      "INFO:tensorflow:Assets written to: vgg16_unfreeze\\assets\n"
     ]
    }
   ],
   "source": [
    "# I save the model so that i can load it for inference later and also train it more. Since i used a checkpoint callback , i have both the best epoch saved and the final model saved\n",
    "#! Full tomatoe dataset\n",
    "model.save('vgg16_unfreeze')"
   ]
  },
  {
   "cell_type": "code",
   "execution_count": 11,
   "metadata": {},
   "outputs": [
    {
     "name": "stdout",
     "output_type": "stream",
     "text": [
      "INFO:tensorflow:Assets written to: vgg16_unfreeze_small\\assets\n"
     ]
    },
    {
     "name": "stderr",
     "output_type": "stream",
     "text": [
      "INFO:tensorflow:Assets written to: vgg16_unfreeze_small\\assets\n"
     ]
    }
   ],
   "source": [
    "#\n",
    "#! small tomatoe dataset \n",
    "model.save('vgg16_unfreeze_small')"
   ]
  },
  {
   "cell_type": "markdown",
   "metadata": {},
   "source": [
    "Lets load the vgg16_unfreeze model and train it some more"
   ]
  },
  {
   "cell_type": "code",
   "execution_count": 30,
   "metadata": {},
   "outputs": [
    {
     "name": "stdout",
     "output_type": "stream",
     "text": [
      "400/400 [==============================] - ETA: 0s - loss: 1.6027 - accuracy: 0.4388INFO:tensorflow:Assets written to: C:\\Users\\Magnus\\Desktop\\code\\timeSeries\\my_model\\vgg16_unfreeze_one_block.tf\\assets\n"
     ]
    },
    {
     "name": "stderr",
     "output_type": "stream",
     "text": [
      "INFO:tensorflow:Assets written to: C:\\Users\\Magnus\\Desktop\\code\\timeSeries\\my_model\\vgg16_unfreeze_one_block.tf\\assets\n"
     ]
    },
    {
     "name": "stdout",
     "output_type": "stream",
     "text": [
      "400/400 [==============================] - 3583s 9s/step - loss: 1.6027 - accuracy: 0.4388 - val_loss: 1.4863 - val_accuracy: 0.4863\n"
     ]
    }
   ],
   "source": [
    "model = load_model('vgg16_unfreeze')\n",
    "epochs = 1\n",
    "history_222 = model.fit(train_ds, epochs=epochs, validation_data=val_ds, callbacks=callback_list)\n",
    "#! del"
   ]
  },
  {
   "cell_type": "markdown",
   "metadata": {},
   "source": [
    "Unfreezing the last block and fine tuning the model does improve the results! from around 20% to 40% with it very likely improving further with more epoch training sessions."
   ]
  },
  {
   "cell_type": "code",
   "execution_count": null,
   "metadata": {},
   "outputs": [],
   "source": []
  },
  {
   "cell_type": "markdown",
   "metadata": {},
   "source": [
    "I try to save both the model and its metrics. I use pickle for the metrics (saving a dataframe) and a dictionary for the accuracy score. Technically should not test on test set before i am done fine tuning the model, but since the results were so unstable i made that choice. Also its becomin very clear that i should have written functions so that i would not copy paste as much of my code."
   ]
  },
  {
   "cell_type": "code",
   "execution_count": 14,
   "metadata": {},
   "outputs": [
    {
     "name": "stdout",
     "output_type": "stream",
     "text": [
      "13/13 [==============================] - 68s 5s/step - loss: 2.1769 - accuracy: 0.1851\n",
      "Loss = 2.1769156455993652\n",
      "Accuracy = 18.5%\n"
     ]
    }
   ],
   "source": [
    "history_metrics = pd.DataFrame(history.history)\n",
    "\n",
    "evaluation_scores = model.evaluate(test_ds)\n",
    "print(f\"Loss = {evaluation_scores[0]}\")\n",
    "acc = evaluation_scores[1]\n",
    "formatted_acc = \"{:.1%}\".format(acc)\n",
    "print(f\"Accuracy = {formatted_acc}\")\n",
    "\n",
    "accuracy_dict = {}\n",
    "epoch = len(history_metrics) + 1\n",
    "\n",
    "accuracy_dict[f'Epoch {epoch}'] = acc\n",
    "\n",
    "\n",
    "path = r'C:\\Users\\Magnus\\Desktop\\code\\timeSeries\\history_df_small\\\\'\n",
    "with open(path + 'history_metrics', 'wb') as f:\n",
    "    pickle.dump(history_metrics, f)\n",
    "\n",
    "with open(path + 'accuracy_dict', 'wb') as f:\n",
    "    pickle.dump(accuracy_dict, f)"
   ]
  },
  {
   "cell_type": "markdown",
   "metadata": {},
   "source": [
    "After i have trained the choosen model once and saved the metrics I can just re-run the cell below each time I want to train the model for more epochs. I can change the epoch varible so what number of training iterations i want to run that session."
   ]
  },
  {
   "cell_type": "code",
   "execution_count": 20,
   "metadata": {},
   "outputs": [
    {
     "name": "stdout",
     "output_type": "stream",
     "text": [
      "100/100 [==============================] - 816s 8s/step - loss: 2.1213 - accuracy: 0.2338 - val_loss: 2.0271 - val_accuracy: 0.3776\n",
      "13/13 [==============================] - 74s 5s/step - loss: 2.0302 - accuracy: 0.3558\n",
      "Loss = 2.030210256576538\n",
      "Accuracy = 35.6%\n",
      "INFO:tensorflow:Assets written to: vgg16_unfreeze_small\\assets\n"
     ]
    },
    {
     "name": "stderr",
     "output_type": "stream",
     "text": [
      "INFO:tensorflow:Assets written to: vgg16_unfreeze_small\\assets\n"
     ]
    }
   ],
   "source": [
    "# folder where we save history / logs\n",
    "path = r'C:\\Users\\Magnus\\Desktop\\code\\timeSeries\\history_df_small\\\\'\n",
    "\n",
    "# Load the pickled DataFrame\n",
    "with open(path + 'history_metrics', 'rb') as f:\n",
    "    past_history = pickle.load(f)\n",
    "\n",
    "# Load the pickled DataFrame\n",
    "with open(path + 'accuracy_dict', 'rb') as f:\n",
    "    accuracy_dict = pickle.load(f)\n",
    "\n",
    "#! In my maybe to simple setup you have to make sure that the model name you load is correct and also the metrics folder. I could probably make this into a function somehow...\n",
    "model = load_model('vgg16_unfreeze_small')\n",
    "\n",
    "\n",
    "epochs = 1\n",
    "history = model.fit(train_ds, epochs=epochs, validation_data=val_ds)\n",
    "\n",
    "\n",
    "history_metrics = pd.DataFrame(history.history)\n",
    "\n",
    "evaluation_scores = model.evaluate(test_ds)\n",
    "print(f\"Loss = {evaluation_scores[0]}\")\n",
    "acc = evaluation_scores[1]\n",
    "formatted_acc = \"{:.1%}\".format(acc)\n",
    "print(f\"Accuracy = {formatted_acc}\")\n",
    "\n",
    "\n",
    "#? saving model history metrics and test accuracy\n",
    "history_concat = pd.concat([past_history, history_metrics], ignore_index=True)\n",
    "total_epochs = len(history_concat)\n",
    "accuracy_dict[f'Epoch {total_epochs}'] = acc\n",
    "\n",
    "\n",
    "\n",
    "with open(path + 'history_metrics', 'wb') as f:\n",
    "    pickle.dump(history_concat, f)\n",
    "\n",
    "with open(path + 'accuracy_dict', 'wb') as f:\n",
    "    pickle.dump(accuracy_dict, f)\n",
    "\n",
    "model.save('vgg16_unfreeze_small')\n"
   ]
  },
  {
   "cell_type": "code",
   "execution_count": 19,
   "metadata": {},
   "outputs": [
    {
     "data": {
      "text/html": [
       "<div>\n",
       "<style scoped>\n",
       "    .dataframe tbody tr th:only-of-type {\n",
       "        vertical-align: middle;\n",
       "    }\n",
       "\n",
       "    .dataframe tbody tr th {\n",
       "        vertical-align: top;\n",
       "    }\n",
       "\n",
       "    .dataframe thead th {\n",
       "        text-align: right;\n",
       "    }\n",
       "</style>\n",
       "<table border=\"1\" class=\"dataframe\">\n",
       "  <thead>\n",
       "    <tr style=\"text-align: right;\">\n",
       "      <th></th>\n",
       "      <th>loss</th>\n",
       "      <th>accuracy</th>\n",
       "      <th>val_loss</th>\n",
       "      <th>val_accuracy</th>\n",
       "    </tr>\n",
       "  </thead>\n",
       "  <tbody>\n",
       "    <tr>\n",
       "      <th>0</th>\n",
       "      <td>3.076192</td>\n",
       "      <td>0.099063</td>\n",
       "      <td>2.332503</td>\n",
       "      <td>0.114583</td>\n",
       "    </tr>\n",
       "    <tr>\n",
       "      <th>1</th>\n",
       "      <td>2.394844</td>\n",
       "      <td>0.112812</td>\n",
       "      <td>2.293883</td>\n",
       "      <td>0.109375</td>\n",
       "    </tr>\n",
       "    <tr>\n",
       "      <th>2</th>\n",
       "      <td>2.307272</td>\n",
       "      <td>0.131250</td>\n",
       "      <td>2.268009</td>\n",
       "      <td>0.140625</td>\n",
       "    </tr>\n",
       "    <tr>\n",
       "      <th>3</th>\n",
       "      <td>2.265646</td>\n",
       "      <td>0.146875</td>\n",
       "      <td>2.236188</td>\n",
       "      <td>0.200521</td>\n",
       "    </tr>\n",
       "    <tr>\n",
       "      <th>4</th>\n",
       "      <td>2.217548</td>\n",
       "      <td>0.171875</td>\n",
       "      <td>2.166676</td>\n",
       "      <td>0.166667</td>\n",
       "    </tr>\n",
       "    <tr>\n",
       "      <th>5</th>\n",
       "      <td>2.185566</td>\n",
       "      <td>0.183437</td>\n",
       "      <td>2.142907</td>\n",
       "      <td>0.216146</td>\n",
       "    </tr>\n",
       "  </tbody>\n",
       "</table>\n",
       "</div>"
      ],
      "text/plain": [
       "       loss  accuracy  val_loss  val_accuracy\n",
       "0  3.076192  0.099063  2.332503      0.114583\n",
       "1  2.394844  0.112812  2.293883      0.109375\n",
       "2  2.307272  0.131250  2.268009      0.140625\n",
       "3  2.265646  0.146875  2.236188      0.200521\n",
       "4  2.217548  0.171875  2.166676      0.166667\n",
       "5  2.185566  0.183437  2.142907      0.216146"
      ]
     },
     "execution_count": 19,
     "metadata": {},
     "output_type": "execute_result"
    }
   ],
   "source": [
    "history_concat"
   ]
  },
  {
   "cell_type": "markdown",
   "metadata": {},
   "source": [
    "After 7 epochs on the small tomato dataset i am abandoning the vgg16_unfreeze model."
   ]
  },
  {
   "cell_type": "markdown",
   "metadata": {},
   "source": [
    "Trying to unfreeze the last 2 blocks of the vgg16 model and substitute the first one for a conv2d block (similar to have its structured in the original vgg16 model) and the last one with a dense block. This may help the model to extract more features from the tomato pictures. Even though it takes a very long time i will try training on both the small and big dataset to see if there is a difference. There is a risk that the epochs (i am trying 5) is simply to few to determine the dataset is to small.\n",
    "\n",
    "Another thing that made my code alot more messy than it could have been is that i would overwrite the dataset varible instead of having one dedicated name for the full and small tomato dataset."
   ]
  },
  {
   "cell_type": "code",
   "execution_count": null,
   "metadata": {},
   "outputs": [],
   "source": []
  },
  {
   "cell_type": "code",
   "execution_count": 10,
   "metadata": {},
   "outputs": [
    {
     "name": "stdout",
     "output_type": "stream",
     "text": [
      "Epoch 1/5\n",
      "100/100 [==============================] - 1071s 11s/step - loss: 2.5808 - accuracy: 0.0913 - val_loss: 2.3110 - val_accuracy: 0.1068\n",
      "Epoch 2/5\n",
      "100/100 [==============================] - 1127s 11s/step - loss: 2.3168 - accuracy: 0.0956 - val_loss: 2.3083 - val_accuracy: 0.1094\n",
      "Epoch 3/5\n",
      "100/100 [==============================] - 1147s 11s/step - loss: 2.3053 - accuracy: 0.1053 - val_loss: 2.3049 - val_accuracy: 0.0964\n",
      "Epoch 4/5\n",
      "100/100 [==============================] - 1153s 12s/step - loss: 2.3052 - accuracy: 0.0994 - val_loss: 2.3044 - val_accuracy: 0.0911\n",
      "Epoch 5/5\n",
      "100/100 [==============================] - 1120s 11s/step - loss: 2.3048 - accuracy: 0.0928 - val_loss: 2.3016 - val_accuracy: 0.1458\n"
     ]
    }
   ],
   "source": [
    "epochs = 5\n",
    "history = model.fit(train_ds, epochs=epochs, validation_data=val_ds)"
   ]
  },
  {
   "cell_type": "markdown",
   "metadata": {},
   "source": [
    "let us also try with the big tomato dataset to see how pronounced the difference will be"
   ]
  },
  {
   "cell_type": "code",
   "execution_count": null,
   "metadata": {},
   "outputs": [],
   "source": [
    "vgg16_base = keras.applications.vgg16.VGG16(\n",
    "    weights=\"imagenet\",\n",
    "    include_top=False,\n",
    "    input_shape=(256, 256, 3))\n",
    "\n",
    "\n",
    "vgg16_base.trainable = True\n",
    "for layer in vgg16_base.layers[:-8]:\n",
    "    layer.trainable = False\n",
    "\n",
    "\n",
    "inputs = keras.Input(shape=(256, 256, 3))\n",
    "x = keras.applications.vgg16.preprocess_input(inputs)\n",
    "x = vgg16_base(x)\n",
    "x = layers.Conv2D(filters=64, kernel_size=(3, 3), activation='relu')(x)\n",
    "x = layers.MaxPooling2D(pool_size=(2, 2))(x)\n",
    "x = layers.Flatten()(x)\n",
    "x = layers.Dense(256)(x)\n",
    "x = layers.Dropout(0.25)(x)\n",
    "x = layers.Dense(128)(x)\n",
    "x = layers.Dropout(0.25)(x)\n",
    "outputs = layers.Dense(10, activation=\"sigmoid\")(x)\n",
    "\n",
    "model = keras.Model(inputs, outputs)\n",
    "model.compile(\n",
    "    loss=\"sparse_categorical_crossentropy\",\n",
    "    optimizer=keras.optimizers.RMSprop(learning_rate=1e-5),\n",
    "    metrics=[\"accuracy\"]\n",
    ")\n",
    "model.summary()"
   ]
  },
  {
   "cell_type": "code",
   "execution_count": 20,
   "metadata": {},
   "outputs": [
    {
     "name": "stdout",
     "output_type": "stream",
     "text": [
      "13/13 [==============================] - 74s 6s/step - loss: 2.3021 - accuracy: 0.1202\n",
      "Loss = 2.3020524978637695\n",
      "Accuracy = 12.0%\n",
      "INFO:tensorflow:Assets written to: vgg16_big_unfreeze_small_ds\\assets\n"
     ]
    },
    {
     "name": "stderr",
     "output_type": "stream",
     "text": [
      "INFO:tensorflow:Assets written to: vgg16_big_unfreeze_small_ds\\assets\n"
     ]
    }
   ],
   "source": [
    "epochs = 5\n",
    "history = model.fit(train_ds, epochs=epochs, validation_data=val_ds)\n",
    "\n",
    "history_metrics = pd.DataFrame(history.history)\n",
    "\n",
    "evaluation_scores = model.evaluate(test_ds)\n",
    "print(f\"Loss = {evaluation_scores[0]}\")\n",
    "acc = evaluation_scores[1]\n",
    "formatted_acc = \"{:.1%}\".format(acc)\n",
    "print(f\"Accuracy = {formatted_acc}\")\n",
    "\n",
    "accuracy_dict = {}\n",
    "epoch = len(history_metrics) + 1\n",
    "\n",
    "accuracy_dict[f'Epoch {epoch}'] = acc\n",
    "\n",
    "\n",
    "\n",
    "#! very important to create new folder for the new model\n",
    "# this could have been done more elegantly using os or pathlib\n",
    "path = r'C:\\Users\\Magnus\\Desktop\\code\\timeSeries\\\\'\n",
    "\n",
    "# Create the directory if it doesn't exist\n",
    "directory = os.path.join(path, 'history_big_freeze_small_ds')\n",
    "if not os.path.exists(directory):\n",
    "    os.makedirs(directory)\n",
    "\n",
    "with open(directory + 'history_metrics', 'wb') as f:\n",
    "    pickle.dump(history_metrics, f)\n",
    "\n",
    "with open(directory + 'accuracy_dict', 'wb') as f:\n",
    "    pickle.dump(accuracy_dict, f)\n",
    "    \n",
    "model.save('vgg16_big_unfreeze_small_ds')"
   ]
  },
  {
   "cell_type": "code",
   "execution_count": null,
   "metadata": {},
   "outputs": [],
   "source": [
    "# folder where we save history / logs\n",
    "path = r'C:\\Users\\Magnus\\Desktop\\code\\timeSeries\\history_big_freeze_small_ds\\\\'\n",
    "#! obs obs obs obs obs obs\n",
    "\n",
    "\n",
    "# Load the pickled DataFrame\n",
    "with open(path + 'history_metrics', 'rb') as f:\n",
    "    past_history = pickle.load(f)\n",
    "\n",
    "# Load the pickled DataFrame\n",
    "with open(path + 'accuracy_dict', 'rb') as f:\n",
    "    accuracy_dict = pickle.load(f)\n",
    "\n",
    "#! In my maybe to simple setup you have to make sure that the model name you load is correct and also the metrics folder. I could probably make this into a function somehow...\n",
    "model = load_model('vgg16_unfreeze_small')\n",
    "\n",
    "\n",
    "epochs = 1\n",
    "history = model.fit(train_ds, epochs=epochs, validation_data=val_ds)\n",
    "\n",
    "\n",
    "history_metrics = pd.DataFrame(history.history)\n",
    "\n",
    "evaluation_scores = model.evaluate(test_ds)\n",
    "print(f\"Loss = {evaluation_scores[0]}\")\n",
    "acc = evaluation_scores[1]\n",
    "formatted_acc = \"{:.1%}\".format(acc)\n",
    "print(f\"Accuracy = {formatted_acc}\")\n",
    "\n",
    "\n",
    "\n",
    "\n",
    "#? saving model history metrics and test accuracy\n",
    "history_concat = pd.concat([past_history, history_metrics], ignore_index=True)\n",
    "total_epochs = len(history_concat)\n",
    "accuracy_dict[f'Epoch {total_epochs}'] = acc\n",
    "\n",
    "\n",
    "\n",
    "with open(path + 'history_metrics', 'wb') as f:\n",
    "    pickle.dump(history_concat, f)\n",
    "\n",
    "with open(path + 'accuracy_dict', 'wb') as f:\n",
    "    pickle.dump(accuracy_dict, f)\n",
    "\n",
    "model.save('vgg16_big_unfreeze_small_ds')"
   ]
  },
  {
   "cell_type": "markdown",
   "metadata": {},
   "source": [
    "And i will do the same for unfreezing 2 blocks and training on the whole dataset. I should have written a nice function so that i did not need to copy as much code"
   ]
  },
  {
   "cell_type": "code",
   "execution_count": 25,
   "metadata": {},
   "outputs": [
    {
     "name": "stdout",
     "output_type": "stream",
     "text": [
      "Model: \"model_2\"\n",
      "_________________________________________________________________\n",
      " Layer (type)                Output Shape              Param #   \n",
      "=================================================================\n",
      " input_7 (InputLayer)        [(None, 256, 256, 3)]     0         \n",
      "                                                                 \n",
      " tf.__operators__.getitem_2  (None, 256, 256, 3)       0         \n",
      "  (SlicingOpLambda)                                              \n",
      "                                                                 \n",
      " tf.nn.bias_add_2 (TFOpLamb  (None, 256, 256, 3)       0         \n",
      " da)                                                             \n",
      "                                                                 \n",
      " vgg16 (Functional)          (None, 8, 8, 512)         14714688  \n",
      "                                                                 \n",
      " conv2d_2 (Conv2D)           (None, 6, 6, 64)          294976    \n",
      "                                                                 \n",
      " max_pooling2d_2 (MaxPoolin  (None, 3, 3, 64)          0         \n",
      " g2D)                                                            \n",
      "                                                                 \n",
      " flatten_2 (Flatten)         (None, 576)               0         \n",
      "                                                                 \n",
      " dense_6 (Dense)             (None, 256)               147712    \n",
      "                                                                 \n",
      " dropout_4 (Dropout)         (None, 256)               0         \n",
      "                                                                 \n",
      " dense_7 (Dense)             (None, 128)               32896     \n",
      "                                                                 \n",
      " dropout_5 (Dropout)         (None, 128)               0         \n",
      "                                                                 \n",
      " dense_8 (Dense)             (None, 10)                1290      \n",
      "                                                                 \n",
      "=================================================================\n",
      "Total params: 15191562 (57.95 MB)\n",
      "Trainable params: 13456074 (51.33 MB)\n",
      "Non-trainable params: 1735488 (6.62 MB)\n",
      "_________________________________________________________________\n"
     ]
    }
   ],
   "source": [
    "vgg16_base = keras.applications.vgg16.VGG16(\n",
    "    weights=\"imagenet\",\n",
    "    include_top=False,\n",
    "    input_shape=(256, 256, 3))\n",
    "\n",
    "\n",
    "vgg16_base.trainable = True\n",
    "for layer in vgg16_base.layers[:-8]:\n",
    "    layer.trainable = False\n",
    "\n",
    "\n",
    "inputs = keras.Input(shape=(256, 256, 3))\n",
    "x = keras.applications.vgg16.preprocess_input(inputs)\n",
    "x = vgg16_base(x)\n",
    "x = layers.Conv2D(filters=64, kernel_size=(3, 3), activation='relu')(x)\n",
    "x = layers.MaxPooling2D(pool_size=(2, 2))(x)\n",
    "x = layers.Flatten()(x)\n",
    "x = layers.Dense(256)(x)\n",
    "x = layers.Dropout(0.25)(x)\n",
    "x = layers.Dense(128)(x)\n",
    "x = layers.Dropout(0.25)(x)\n",
    "outputs = layers.Dense(10, activation=\"sigmoid\")(x)\n",
    "\n",
    "model = keras.Model(inputs, outputs)\n",
    "model.compile(\n",
    "    loss=\"sparse_categorical_crossentropy\",\n",
    "    optimizer=keras.optimizers.RMSprop(learning_rate=1e-5),\n",
    "    metrics=[\"accuracy\"]\n",
    ")\n",
    "model.summary()"
   ]
  },
  {
   "cell_type": "code",
   "execution_count": 34,
   "metadata": {},
   "outputs": [
    {
     "name": "stdout",
     "output_type": "stream",
     "text": [
      "51/51 [==============================] - 282s 5s/step - loss: 2.1727 - accuracy: 0.1501\n",
      "Loss = 2.1727285385131836\n",
      "Accuracy = 15.0%\n"
     ]
    }
   ],
   "source": [
    "epochs =1\n",
    "history = model.fit(train_ds, epochs=epochs, validation_data=val_ds)\n",
    "\n",
    "history_metrics = pd.DataFrame(history.history)\n",
    "\n",
    "evaluation_scores = model.evaluate(test_ds)\n",
    "print(f\"Loss = {evaluation_scores[0]}\")\n",
    "acc = evaluation_scores[1]\n",
    "formatted_acc = \"{:.1%}\".format(acc)\n",
    "print(f\"Accuracy = {formatted_acc}\")\n",
    "\n",
    "accuracy_dict = {}\n",
    "epoch = len(history_metrics) + 1\n",
    "\n",
    "accuracy_dict[f'Epoch {epoch}'] = acc\n",
    "\n",
    "\n",
    "\n",
    "#! very important to create new folder for the new model\n",
    "# this could have been done more elegantly using os or pathlib\n",
    "path = r'C:\\Users\\Magnus\\Desktop\\code\\timeSeries\\\\'\n",
    "\n",
    "# Create the directory if it doesn't exist\n",
    "directory = os.path.join(path, 'history_big_freeze_big_ds')\n",
    "if not os.path.exists(directory):\n",
    "    os.makedirs(directory)\n",
    "\n",
    "with open(directory + '/history_metrics', 'wb') as f:\n",
    "    pickle.dump(history_metrics, f)\n",
    "\n",
    "with open(directory + '/accuracy_dict', 'wb') as f:\n",
    "    pickle.dump(accuracy_dict, f)\n",
    "    \n",
    "model.save('vgg16_big_unfreeze_big_ds')"
   ]
  },
  {
   "cell_type": "code",
   "execution_count": 39,
   "metadata": {},
   "outputs": [
    {
     "name": "stdout",
     "output_type": "stream",
     "text": [
      "400/400 [==============================] - 4648s 12s/step - loss: 2.0787 - accuracy: 0.2511 - val_loss: 2.0308 - val_accuracy: 0.2606\n",
      "51/51 [==============================] - 315s 6s/step - loss: 2.0209 - accuracy: 0.2727\n",
      "Loss = 2.020918369293213\n",
      "Accuracy = 27.3%\n",
      "INFO:tensorflow:Assets written to: vgg16_big_unfreeze_big_ds\\assets\n"
     ]
    },
    {
     "name": "stderr",
     "output_type": "stream",
     "text": [
      "INFO:tensorflow:Assets written to: vgg16_big_unfreeze_big_ds\\assets\n"
     ]
    }
   ],
   "source": [
    "path = r'C:\\Users\\Magnus\\Desktop\\code\\timeSeries\\history_big_freeze_big_ds\\\\'\n",
    "\n",
    "# Load the pickled DataFrame\n",
    "with open(path + 'history_metrics', 'rb') as f:\n",
    "    past_history = pickle.load(f)\n",
    "\n",
    "# Load the pickled DataFrame\n",
    "with open(path + 'accuracy_dict', 'rb') as f:\n",
    "    accuracy_dict = pickle.load(f)\n",
    "\n",
    "#! In my maybe to simple setup you have to make sure that the model name you load is correct and also the metrics folder. I could probably make this into a function somehow...\n",
    "model = load_model('vgg16_big_unfreeze_big_ds')\n",
    "\n",
    "\n",
    "epochs = 1\n",
    "history = model.fit(train_ds, epochs=epochs, validation_data=val_ds)\n",
    "\n",
    "\n",
    "history_metrics = pd.DataFrame(history.history)\n",
    "\n",
    "evaluation_scores = model.evaluate(test_ds)\n",
    "print(f\"Loss = {evaluation_scores[0]}\")\n",
    "acc = evaluation_scores[1]\n",
    "formatted_acc = \"{:.1%}\".format(acc)\n",
    "print(f\"Accuracy = {formatted_acc}\")\n",
    "\n",
    "\n",
    "\n",
    "\n",
    "#? saving model history metrics and test accuracy\n",
    "history_concat = pd.concat([past_history, history_metrics], ignore_index=True)\n",
    "total_epochs = len(history_concat)\n",
    "accuracy_dict[f'Epoch {total_epochs}'] = acc\n",
    "\n",
    "\n",
    "\n",
    "with open(path + '/history_metrics', 'wb') as f:\n",
    "    pickle.dump(history_concat, f)\n",
    "\n",
    "with open(path + '/accuracy_dict', 'wb') as f:\n",
    "    pickle.dump(accuracy_dict, f)\n",
    "\n",
    "model.save('vgg16_big_unfreeze_big_ds')"
   ]
  },
  {
   "cell_type": "markdown",
   "metadata": {},
   "source": [
    "Pretty good results for only 2 epochs! Seems very likely that the results would be pretty good if we could get the usual 30+ epochs!"
   ]
  },
  {
   "cell_type": "markdown",
   "metadata": {},
   "source": [
    "Overall fine tuning seems to be very effective. Maybe there are more suitble models out there for my choosen dataset?"
   ]
  }
 ],
 "metadata": {
  "kernelspec": {
   "display_name": "venvTS",
   "language": "python",
   "name": "python3"
  },
  "language_info": {
   "codemirror_mode": {
    "name": "ipython",
    "version": 3
   },
   "file_extension": ".py",
   "mimetype": "text/x-python",
   "name": "python",
   "nbconvert_exporter": "python",
   "pygments_lexer": "ipython3",
   "version": "3.10.9"
  },
  "orig_nbformat": 4
 },
 "nbformat": 4,
 "nbformat_minor": 2
}
